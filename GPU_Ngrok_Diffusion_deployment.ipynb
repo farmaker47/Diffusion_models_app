{
  "nbformat": 4,
  "nbformat_minor": 0,
  "metadata": {
    "colab": {
      "provenance": []
    },
    "kernelspec": {
      "name": "python3",
      "display_name": "Python 3"
    },
    "language_info": {
      "name": "python"
    },
    "accelerator": "GPU",
    "gpuClass": "standard"
  },
  "cells": [
    {
      "cell_type": "markdown",
      "source": [
        "Installing the dependencies"
      ],
      "metadata": {
        "id": "wkI03QkCFmDF"
      }
    },
    {
      "cell_type": "code",
      "execution_count": null,
      "metadata": {
        "id": "6tLUT6T9FjHG"
      },
      "outputs": [],
      "source": [
        "!pip install fastapi\n",
        "!pip install uvicorn\n",
        "!pip install pydantic\n",
        "!pip install requests\n",
        "!pip install pypi-json\n",
        "!pip install pyngrok\n",
        "!pip install nest-asyncio"
      ]
    },
    {
      "cell_type": "code",
      "source": [
        "!pip install tensorflow-gpu==2.11.0\n",
        "!pip install keras-cv"
      ],
      "metadata": {
        "id": "LZr3I-ZiofIV"
      },
      "execution_count": null,
      "outputs": []
    },
    {
      "cell_type": "code",
      "source": [
        "from fastapi import FastAPI\n",
        "from pydantic import BaseModel\n",
        "import json\n",
        "import uvicorn\n",
        "from pyngrok import ngrok\n",
        "from fastapi.middleware.cors import CORSMiddleware\n",
        "import nest_asyncio"
      ],
      "metadata": {
        "id": "NURTbIJlFzWR"
      },
      "execution_count": 3,
      "outputs": []
    },
    {
      "cell_type": "code",
      "source": [
        "import tensorflow as tf\n",
        "from tensorflow import keras\n",
        "import base64\n",
        "import math\n",
        "import numpy as np"
      ],
      "metadata": {
        "id": "958zgKjOoYb5"
      },
      "execution_count": 4,
      "outputs": []
    },
    {
      "cell_type": "code",
      "source": [
        "print(tf.__version__)"
      ],
      "metadata": {
        "colab": {
          "base_uri": "https://localhost:8080/"
        },
        "id": "PGm5vDXnond6",
        "outputId": "86f2ff1a-64a5-4cb9-afef-1334af222770"
      },
      "execution_count": 5,
      "outputs": [
        {
          "output_type": "stream",
          "name": "stdout",
          "text": [
            "2.11.0\n"
          ]
        }
      ]
    },
    {
      "cell_type": "code",
      "source": [
        "device_name = tf.test.gpu_device_name()\n",
        "if device_name != '/device:GPU:0':\n",
        "  raise SystemError('GPU device not found')\n",
        "print('Found GPU at: {}'.format(device_name))"
      ],
      "metadata": {
        "colab": {
          "base_uri": "https://localhost:8080/"
        },
        "id": "SJdo7TcK4MFU",
        "outputId": "cc676940-2317-4337-e5d2-afda7da7ba6b"
      },
      "execution_count": 6,
      "outputs": [
        {
          "output_type": "stream",
          "name": "stdout",
          "text": [
            "Found GPU at: /device:GPU:0\n"
          ]
        }
      ]
    },
    {
      "cell_type": "code",
      "source": [
        "!nvidia-smi"
      ],
      "metadata": {
        "id": "gzQr8XL54OSg"
      },
      "execution_count": null,
      "outputs": []
    },
    {
      "cell_type": "code",
      "source": [
        "app = FastAPI()"
      ],
      "metadata": {
        "id": "Gw9a-r-RGS1n"
      },
      "execution_count": 8,
      "outputs": []
    },
    {
      "cell_type": "code",
      "source": [
        "origins = [\"*\"]\n",
        "\n",
        "app.add_middleware(\n",
        "    CORSMiddleware,\n",
        "    allow_origins=origins,\n",
        "    allow_credentials=True,\n",
        "    allow_methods=[\"*\"],\n",
        "    allow_headers=[\"*\"],\n",
        ")"
      ],
      "metadata": {
        "id": "fH-2Snr9HDRd"
      },
      "execution_count": 9,
      "outputs": []
    },
    {
      "cell_type": "code",
      "source": [
        "# https://docs.pydantic.dev/usage/types/\n",
        "class model_input(BaseModel):\n",
        "    context : list\n",
        "    unconditional_context : list\n"
      ],
      "metadata": {
        "id": "SxOQ7pUfGfv7"
      },
      "execution_count": 10,
      "outputs": []
    },
    {
      "cell_type": "code",
      "source": [
        "%cd ../"
      ],
      "metadata": {
        "id": "WW4GupKKGjCf"
      },
      "execution_count": null,
      "outputs": []
    },
    {
      "cell_type": "code",
      "source": [
        "!git lfs install\n",
        "!git clone https://huggingface.co/keras-sd/tfs-diffusion-model"
      ],
      "metadata": {
        "id": "ZNrNPwl7nuP8"
      },
      "execution_count": null,
      "outputs": []
    },
    {
      "cell_type": "code",
      "source": [
        "!git clone https://huggingface.co/keras-sd/tfs-decoder.git"
      ],
      "metadata": {
        "id": "NxvjGnFEnYSI"
      },
      "execution_count": null,
      "outputs": []
    },
    {
      "cell_type": "code",
      "source": [
        "#!rm -r tfs-decoder"
      ],
      "metadata": {
        "id": "YJ_z8T42vxsW"
      },
      "execution_count": 9,
      "outputs": []
    },
    {
      "cell_type": "code",
      "source": [
        "diffusion_model = tf.saved_model.load('/tfs-diffusion-model')"
      ],
      "metadata": {
        "id": "VFbICQZRoQr7"
      },
      "execution_count": 14,
      "outputs": []
    },
    {
      "cell_type": "code",
      "source": [
        "decoder_model = tf.saved_model.load('/tfs-decoder')"
      ],
      "metadata": {
        "id": "z27Ih46ync9j"
      },
      "execution_count": 15,
      "outputs": []
    },
    {
      "cell_type": "code",
      "source": [
        "from keras_cv.models.stable_diffusion.constants import _UNCONDITIONAL_TOKENS\n",
        "from keras_cv.models.stable_diffusion.constants import _ALPHAS_CUMPROD\n",
        "MAX_PROMPT_LENGTH = 77"
      ],
      "metadata": {
        "id": "CZ-yrcE7p3mg"
      },
      "execution_count": null,
      "outputs": []
    },
    {
      "cell_type": "code",
      "source": [
        "# Using diffusion saved model\n",
        "\n",
        "seed = None\n",
        "batch_size = 1\n",
        "img_height = 512\n",
        "img_width = 512\n",
        "img_height = round(img_height / 128) * 128\n",
        "img_width = round(img_width / 128) * 128\n",
        "num_steps = 25\n",
        "unconditional_guidance_scale = 7.5 \n",
        "\n",
        "def _get_initial_diffusion_noise(batch_size, seed):\n",
        "    if seed is not None:\n",
        "        return tf.random.stateless_normal(\n",
        "            (batch_size, img_height // 8, img_width // 8, 4),\n",
        "            seed=[seed, seed],\n",
        "        )\n",
        "    else:\n",
        "        return tf.random.normal(\n",
        "            (batch_size, img_height // 8, img_width // 8, 4)\n",
        "        )\n",
        "\n",
        "def _get_initial_alphas(timesteps):\n",
        "    alphas = [_ALPHAS_CUMPROD[t] for t in timesteps]\n",
        "    alphas_prev = [1.0] + alphas[:-1]\n",
        "\n",
        "    return alphas, alphas_prev\n",
        "\n",
        "def _get_timestep_embedding(timestep, batch_size, dim=320, max_period=10000):\n",
        "    half = dim // 2\n",
        "    freqs = tf.math.exp(\n",
        "        -math.log(max_period) * tf.range(0, half, dtype=tf.float32) / half\n",
        "    )\n",
        "    args = tf.convert_to_tensor([timestep], dtype=tf.float32) * freqs\n",
        "    embedding = tf.concat([tf.math.cos(args), tf.math.sin(args)], 0)\n",
        "    embedding = tf.reshape(embedding, [1, -1])\n",
        "    return tf.repeat(embedding, batch_size, axis=0)\n"
      ],
      "metadata": {
        "id": "VC8ccOxxphQk"
      },
      "execution_count": 17,
      "outputs": []
    },
    {
      "cell_type": "code",
      "source": [
        "@app.post('/diffusion_model_inference')\n",
        "def diffusion_inference(input_data : model_input):\n",
        "    \n",
        "    inputs = input_data.json()\n",
        "    input_dictionary = json.loads(inputs)\n",
        "    context = input_dictionary['context']\n",
        "    print(context)\n",
        "    unconditional_context = input_dictionary['unconditional_context']\n",
        "    print(unconditional_context)\n",
        "    \n",
        "    latent = _get_initial_diffusion_noise(batch_size, seed)\n",
        "\n",
        "    # Iterative reverse diffusion stage\n",
        "    timesteps = tf.range(1, 1000, 1000 // num_steps)\n",
        "    alphas, alphas_prev = _get_initial_alphas(timesteps)\n",
        "    progbar = keras.utils.Progbar(len(timesteps))\n",
        "    iteration = 0\n",
        "    for index, timestep in list(enumerate(timesteps))[::-1]:\n",
        "        latent_prev = latent  # Set aside the previous latent vector\n",
        "        t_emb = _get_timestep_embedding(timestep, batch_size)\n",
        "        unconditional_latent = diffusion_model([latent, t_emb, unconditional_context], training = False)\n",
        "        latent = diffusion_model([latent, t_emb, context], training = False)\n",
        "        latent = unconditional_latent + unconditional_guidance_scale * (\n",
        "            latent - unconditional_latent\n",
        "        )\n",
        "        a_t, a_prev = alphas[index], alphas_prev[index]\n",
        "        pred_x0 = (latent_prev - math.sqrt(1 - a_t) * latent) / math.sqrt(a_t)\n",
        "        latent = latent * math.sqrt(1.0 - a_prev) + math.sqrt(a_prev) * pred_x0\n",
        "        iteration += 1\n",
        "        progbar.update(iteration)\n",
        "    # decoder stage\n",
        "    print('decoder')\n",
        "    decoded = decoder_model(latent, training=False)\n",
        "    decoded = ((decoded + 1) / 2) * 255\n",
        "    image = np.clip(decoded, 0, 255).astype(\"uint8\")\n",
        "\n",
        "    diffusion_result = {\n",
        "        'output':np.array(image).tolist()\n",
        "        }\n",
        "    \n",
        "    return json.dumps(diffusion_result)"
      ],
      "metadata": {
        "id": "hgm7t0wYGk7U"
      },
      "execution_count": 18,
      "outputs": []
    },
    {
      "cell_type": "code",
      "source": [
        "ngrok_tunnel = ngrok.connect(8000)\n",
        "print('Public URL:', ngrok_tunnel.public_url)\n",
        "nest_asyncio.apply()\n",
        "uvicorn.run(app, port=8000)"
      ],
      "metadata": {
        "id": "tmIUrS9dHGof"
      },
      "execution_count": null,
      "outputs": []
    }
  ]
}